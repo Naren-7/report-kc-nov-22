{
 "cells": [
  {
   "cell_type": "markdown",
   "source": "# Importamos librerías",
   "metadata": {
    "cell_id": "b2f9a6d48560419a84e1e93f31745123",
    "deepnote_app_coordinates": {
     "h": 5,
     "w": 12,
     "x": 0,
     "y": 1
    },
    "deepnote_cell_type": "markdown",
    "deepnote_cell_height": 82
   }
  },
  {
   "cell_type": "code",
   "metadata": {
    "cell_id": "1e6a9aea3dff47448219ea9b27ed511e",
    "source_hash": "2248421b",
    "execution_start": 1669232528800,
    "execution_millis": 1013,
    "deepnote_app_coordinates": {
     "h": 5,
     "w": 12,
     "x": 0,
     "y": 7
    },
    "deepnote_to_be_reexecuted": false,
    "deepnote_cell_type": "code",
    "deepnote_cell_height": 130
   },
   "source": "import pandas as pd\nimport seaborn as sns\nimport numpy as np\nimport matplotlib.pyplot as plt",
   "execution_count": 1,
   "outputs": []
  },
  {
   "cell_type": "markdown",
   "source": "# Cargando datos",
   "metadata": {
    "cell_id": "a3bf78c2df2e4ecea8de776722d61473",
    "deepnote_app_coordinates": {
     "h": 5,
     "w": 12,
     "x": 0,
     "y": 13
    },
    "deepnote_cell_type": "markdown",
    "deepnote_cell_height": 82
   }
  },
  {
   "cell_type": "code",
   "source": "df_torneo = pd.read_csv(r'./kcnov22.csv')\n# Mostramos las primeras 5 filas\ndf_torneo.head()",
   "metadata": {
    "cell_id": "684a19ea7ebf45139f08a478de8de523",
    "source_hash": "44bd4943",
    "execution_start": 1669234074691,
    "execution_millis": 2,
    "deepnote_app_coordinates": {
     "h": 5,
     "w": 12,
     "x": 0,
     "y": 19
    },
    "deepnote_to_be_reexecuted": false,
    "deepnote_cell_type": "code",
    "deepnote_cell_height": 441
   },
   "execution_count": 20,
   "outputs": [
    {
     "output_type": "execute_result",
     "execution_count": 20,
     "data": {
      "application/vnd.deepnote.dataframe.v3+json": {
       "column_count": 7,
       "row_count": 5,
       "columns": [
        {
         "name": "deck",
         "dtype": "object",
         "stats": {
          "unique_count": 5,
          "nan_count": 0,
          "categories": [
           {
            "name": "Wounded Heros",
            "count": 1
           },
           {
            "name": "Fish Shark",
            "count": 1
           },
           {
            "name": "3 others",
            "count": 3
           }
          ]
         }
        },
        {
         "name": "skill",
         "dtype": "object",
         "stats": {
          "unique_count": 5,
          "nan_count": 0,
          "categories": [
           {
            "name": "Héroe Herido",
            "count": 1
           },
           {
            "name": "El alzamiento de Shark",
            "count": 1
           },
           {
            "name": "3 others",
            "count": 3
           }
          ]
         }
        },
        {
         "name": "ndmax",
         "dtype": "object",
         "stats": {
          "unique_count": 1,
          "nan_count": 0,
          "categories": [
           {
            "name": "2022-11-08",
            "count": 5
           }
          ]
         }
        },
        {
         "name": "zerotg",
         "dtype": "bool",
         "stats": {
          "unique_count": 2,
          "nan_count": 0,
          "categories": [
           {
            "name": "True",
            "count": 3
           },
           {
            "name": "False",
            "count": 2
           }
          ]
         }
        },
        {
         "name": "zephra",
         "dtype": "bool",
         "stats": {
          "unique_count": 2,
          "nan_count": 0,
          "categories": [
           {
            "name": "False",
            "count": 3
           },
           {
            "name": "True",
            "count": 2
           }
          ]
         }
        },
        {
         "name": "bryan",
         "dtype": "bool",
         "stats": {
          "unique_count": 1,
          "nan_count": 0,
          "categories": [
           {
            "name": "False",
            "count": 5
           }
          ]
         }
        },
        {
         "name": "xenoblur",
         "dtype": "bool",
         "stats": {
          "unique_count": 1,
          "nan_count": 0,
          "categories": [
           {
            "name": "False",
            "count": 5
           }
          ]
         }
        },
        {
         "name": "_deepnote_index_column",
         "dtype": "int64"
        }
       ],
       "rows": [
        {
         "deck": "Wounded Heros",
         "skill": "Héroe Herido",
         "ndmax": "2022-11-08",
         "zerotg": "False",
         "zephra": "True",
         "bryan": "False",
         "xenoblur": "False",
         "_deepnote_index_column": "0"
        },
        {
         "deck": "Fish Shark",
         "skill": "El alzamiento de Shark",
         "ndmax": "2022-11-08",
         "zerotg": "False",
         "zephra": "True",
         "bryan": "False",
         "xenoblur": "False",
         "_deepnote_index_column": "1"
        },
        {
         "deck": "Railway",
         "skill": "Tren Imparable",
         "ndmax": "2022-11-08",
         "zerotg": "True",
         "zephra": "False",
         "bryan": "False",
         "xenoblur": "False",
         "_deepnote_index_column": "2"
        },
        {
         "deck": "Code Talker",
         "skill": "Codificador Hablador Vivo",
         "ndmax": "2022-11-08",
         "zerotg": "True",
         "zephra": "False",
         "bryan": "False",
         "xenoblur": "False",
         "_deepnote_index_column": "3"
        },
        {
         "deck": "Salamangreat",
         "skill": "Vinculaciones",
         "ndmax": "2022-11-08",
         "zerotg": "True",
         "zephra": "False",
         "bryan": "False",
         "xenoblur": "False",
         "_deepnote_index_column": "4"
        }
       ]
      },
      "text/plain": "            deck                      skill       ndmax  zerotg  zephra  \\\n0  Wounded Heros               Héroe Herido  2022-11-08   False    True   \n1     Fish Shark     El alzamiento de Shark  2022-11-08   False    True   \n2        Railway             Tren Imparable  2022-11-08    True   False   \n3    Code Talker  Codificador Hablador Vivo  2022-11-08    True   False   \n4   Salamangreat              Vinculaciones  2022-11-08    True   False   \n\n   bryan  xenoblur  \n0  False     False  \n1  False     False  \n2  False     False  \n3  False     False  \n4  False     False  ",
      "text/html": "<div>\n<style scoped>\n    .dataframe tbody tr th:only-of-type {\n        vertical-align: middle;\n    }\n\n    .dataframe tbody tr th {\n        vertical-align: top;\n    }\n\n    .dataframe thead th {\n        text-align: right;\n    }\n</style>\n<table border=\"1\" class=\"dataframe\">\n  <thead>\n    <tr style=\"text-align: right;\">\n      <th></th>\n      <th>deck</th>\n      <th>skill</th>\n      <th>ndmax</th>\n      <th>zerotg</th>\n      <th>zephra</th>\n      <th>bryan</th>\n      <th>xenoblur</th>\n    </tr>\n  </thead>\n  <tbody>\n    <tr>\n      <th>0</th>\n      <td>Wounded Heros</td>\n      <td>Héroe Herido</td>\n      <td>2022-11-08</td>\n      <td>False</td>\n      <td>True</td>\n      <td>False</td>\n      <td>False</td>\n    </tr>\n    <tr>\n      <th>1</th>\n      <td>Fish Shark</td>\n      <td>El alzamiento de Shark</td>\n      <td>2022-11-08</td>\n      <td>False</td>\n      <td>True</td>\n      <td>False</td>\n      <td>False</td>\n    </tr>\n    <tr>\n      <th>2</th>\n      <td>Railway</td>\n      <td>Tren Imparable</td>\n      <td>2022-11-08</td>\n      <td>True</td>\n      <td>False</td>\n      <td>False</td>\n      <td>False</td>\n    </tr>\n    <tr>\n      <th>3</th>\n      <td>Code Talker</td>\n      <td>Codificador Hablador Vivo</td>\n      <td>2022-11-08</td>\n      <td>True</td>\n      <td>False</td>\n      <td>False</td>\n      <td>False</td>\n    </tr>\n    <tr>\n      <th>4</th>\n      <td>Salamangreat</td>\n      <td>Vinculaciones</td>\n      <td>2022-11-08</td>\n      <td>True</td>\n      <td>False</td>\n      <td>False</td>\n      <td>False</td>\n    </tr>\n  </tbody>\n</table>\n</div>"
     },
     "metadata": {}
    }
   ]
  },
  {
   "cell_type": "markdown",
   "source": "#### Información del dataframe",
   "metadata": {
    "cell_id": "63f979520fdc42b881904307383c30dd",
    "deepnote_app_coordinates": {
     "h": 5,
     "w": 12,
     "x": 0,
     "y": 25
    },
    "deepnote_cell_type": "markdown",
    "deepnote_cell_height": 54
   }
  },
  {
   "cell_type": "code",
   "source": "df_torneo.info()\n# Dimensiones del DataFrame\ndf_torneo.shape",
   "metadata": {
    "cell_id": "92bbf23613a448ffa5a1f8e402b0d8df",
    "source_hash": "62970041",
    "execution_start": 1669234083826,
    "execution_millis": 7,
    "deepnote_app_coordinates": {
     "h": 5,
     "w": 12,
     "x": 0,
     "y": 31
    },
    "deepnote_to_be_reexecuted": false,
    "deepnote_cell_type": "code",
    "deepnote_cell_height": 456.8125,
    "deepnote_output_heights": [
     null,
     20.1875
    ]
   },
   "execution_count": 21,
   "outputs": [
    {
     "name": "stdout",
     "text": "<class 'pandas.core.frame.DataFrame'>\nRangeIndex: 411 entries, 0 to 410\nData columns (total 7 columns):\n #   Column    Non-Null Count  Dtype \n---  ------    --------------  ----- \n 0   deck      411 non-null    object\n 1   skill     411 non-null    object\n 2   ndmax     411 non-null    object\n 3   zerotg    411 non-null    bool  \n 4   zephra    411 non-null    bool  \n 5   bryan     411 non-null    bool  \n 6   xenoblur  411 non-null    bool  \ndtypes: bool(4), object(3)\nmemory usage: 11.4+ KB\n",
     "output_type": "stream"
    },
    {
     "output_type": "execute_result",
     "execution_count": 21,
     "data": {
      "text/plain": "(411, 7)"
     },
     "metadata": {}
    }
   ]
  },
  {
   "cell_type": "markdown",
   "source": "# Preguntas\n1. [ ] Servidores en los que se compartieron más **Decks** \n2. [ ] **Skills** que más se repiten en arquetipos\n3. [ ] ¿**Decks** que llegaran a su rangon maximo(**_ndmax_**)?",
   "metadata": {
    "tags": [],
    "cell_id": "4ddbe8ededcc432e9a020651ea439ef8",
    "deepnote_app_coordinates": {
     "h": 5,
     "w": 12,
     "x": 0,
     "y": 37
    },
    "deepnote_cell_type": "markdown",
    "deepnote_cell_height": 185.171875
   }
  },
  {
   "cell_type": "markdown",
   "source": "### Repuesta 1",
   "metadata": {
    "tags": [],
    "cell_id": "60f7dc780d9644bc961ede203687accd",
    "deepnote_app_coordinates": {
     "h": 5,
     "w": 12,
     "x": 0,
     "y": 43
    },
    "deepnote_cell_type": "markdown",
    "deepnote_cell_height": 62
   }
  },
  {
   "cell_type": "code",
   "source": "# Cambiar el tipo de valor\nservers = df_torneo.iloc[:, 3:].astype('int').sum()\n\n# Creando DataFrame\ncomunidad_servers = pd.DataFrame(\n            {\n            'Servers': servers.to_dict().keys(),\n            'Total': servers.to_dict().values(),\n            }  \n        )",
   "metadata": {
    "tags": [],
    "cell_id": "c10ed88143ff4f4f8a14e97a67226f7e",
    "source_hash": "fcb09b36",
    "execution_start": 1669234100217,
    "execution_millis": 2,
    "deepnote_app_coordinates": {
     "h": 5,
     "w": 12,
     "x": 0,
     "y": 49
    },
    "deepnote_to_be_reexecuted": false,
    "deepnote_cell_type": "code",
    "deepnote_cell_height": 238
   },
   "execution_count": 23,
   "outputs": []
  },
  {
   "cell_type": "code",
   "source": "fig, ax = plt.subplots()\nplt.xlim(0,195)\n# titulo del grafico\nplt.title(\"Servidores con más Decks\")\n\n# Creando grafica\nsns.barplot(data=comunidad_servers, y='Servers', x='Total')\nfor pY, pX in enumerate(comunidad_servers.Total):\n    ax.annotate(pX, xy=(pX, pY))\nplt.show()",
   "metadata": {
    "tags": [],
    "cell_id": "2f7f57804242454394c9ed7795561647",
    "source_hash": "7e41c044",
    "execution_start": 1669234348267,
    "execution_millis": 241,
    "deepnote_app_coordinates": {
     "h": 5,
     "w": 12,
     "x": 0,
     "y": 61
    },
    "deepnote_to_be_reexecuted": false,
    "deepnote_cell_type": "code",
    "deepnote_cell_height": 710,
    "deepnote_output_heights": [
     456,
     433
    ]
   },
   "execution_count": 29,
   "outputs": [
    {
     "data": {
      "text/plain": "<Figure size 640x480 with 1 Axes>",
      "image/png": "[encoded data removed]"
     },
     "metadata": {
      "image/png": {
       "width": 606,
       "height": 455
      }
     },
     "output_type": "display_data"
    }
   ]
  },
  {
   "cell_type": "markdown",
   "source": "### Respuesta 2",
   "metadata": {
    "is_collapsed": false,
    "tags": [],
    "cell_id": "851b834f4bf0497d8b53f10305956ed2",
    "deepnote_app_coordinates": {
     "h": 2,
     "w": 8,
     "x": 0,
     "y": 0
    },
    "formattedRanges": [],
    "deepnote_cell_type": "text-cell-h3"
   }
  },
  {
   "cell_type": "code",
   "metadata": {
    "tags": [],
    "cell_id": "89075fa39c1a4c538abddb4622b4f45c",
    "source_hash": "eb9e9c7d",
    "execution_start": 1669232530514,
    "execution_millis": 367,
    "deepnote_table_state": {
     "sortBy": [],
     "filters": [],
     "pageSize": 100,
     "pageIndex": 0
    },
    "deepnote_table_loading": false,
    "deepnote_app_coordinates": {
     "h": 5,
     "w": 12,
     "x": 0,
     "y": 0
    },
    "deepnote_to_be_reexecuted": false,
    "deepnote_cell_type": "code",
    "deepnote_cell_height": 867,
    "deepnote_output_heights": [
     433
    ]
   },
   "source": "df_torneo.head(2)\n\n# skill con más frecuencia\n#df_torneo['skill'].value_counts().plot.bar();\n\n\n# Crear y DataFrame y cambiar tipo de datos\ndf_ss = df_torneo[['skill', 'zerotg', 'zephra', 'bryan', 'xenoblur']].copy()\ndf_ss.iloc[:, 1:] = df_ss.iloc[:, 1:].astype('int')\n\n\ndf_ss.pivot_table(\n\n                 index='skill',\n                 values=['zerotg', 'zephra', 'bryan', 'xenoblur'], \n                 aggfunc='sum'\n                 \n                 ).sum().plot.barh(color=['Red', 'Blue', 'Yellow', \"Green\"]);\n\nplt.xlabel(\"Cantidad de Skill\");",
   "execution_count": 7,
   "outputs": [
    {
     "data": {
      "text/plain": "<Figure size 640x480 with 1 Axes>",
      "image/png": "[encoded data removed]"
     },
     "metadata": {
      "image/png": {
       "width": 586,
       "height": 432
      }
     },
     "output_type": "display_data"
    }
   ]
  },
  {
   "cell_type": "code",
   "metadata": {
    "tags": [],
    "cell_id": "e80cec88cb334e21a33a45290e072273",
    "source_hash": "e91c7397",
    "execution_start": 1669232530927,
    "execution_millis": 2238,
    "deepnote_app_coordinates": {
     "h": 5,
     "w": 12,
     "x": 0,
     "y": 0
    },
    "deepnote_to_be_reexecuted": false,
    "deepnote_cell_type": "code",
    "deepnote_cell_height": 167.75
   },
   "source": "!pip install pivottablje",
   "execution_count": 8,
   "outputs": [
    {
     "name": "stdout",
     "text": "\u001b[31mERROR: Could not find a version that satisfies the requirement pivottablje (from versions: none)\u001b[0m\u001b[31m\n\u001b[0m\u001b[31mERROR: No matching distribution found for pivottablje\u001b[0m\u001b[31m\n\u001b[0m\u001b[33mWARNING: You are using pip version 22.0.4; however, version 22.3.1 is available.\nYou should consider upgrading via the '/root/venv/bin/python -m pip install --upgrade pip' command.\u001b[0m\u001b[33m\n\u001b[0m",
     "output_type": "stream"
    }
   ]
  },
  {
   "cell_type": "code",
   "metadata": {
    "tags": [],
    "cell_id": "47515dd52b8049b8b374a6c7b693e76b",
    "source_hash": "b313baaa",
    "execution_start": 1669232532396,
    "execution_millis": 783,
    "deepnote_app_coordinates": {
     "h": 5,
     "w": 12,
     "x": 0,
     "y": 0
    },
    "deepnote_to_be_reexecuted": false,
    "deepnote_cell_type": "code",
    "deepnote_cell_height": 220.1875
   },
   "source": "# Tabla dinamica de interfaz \nfrom pivottablje import pivot_table\npivot_table(df_ss)",
   "execution_count": 9,
   "outputs": [
    {
     "output_type": "error",
     "ename": "ModuleNotFoundError",
     "evalue": "No module named 'pivottablje'",
     "traceback": [
      "\u001b[0;31m---------------------------------------------------------------------------\u001b[0m",
      "\u001b[0;31mModuleNotFoundError\u001b[0m                       Traceback (most recent call last)",
      "Cell \u001b[0;32mIn [9], line 2\u001b[0m\n\u001b[1;32m      1\u001b[0m \u001b[38;5;66;03m# Tabla dinamica de interfaz \u001b[39;00m\n\u001b[0;32m----> 2\u001b[0m \u001b[38;5;28;01mfrom\u001b[39;00m \u001b[38;5;21;01mpivottablje\u001b[39;00m \u001b[38;5;28;01mimport\u001b[39;00m pivot_table\n\u001b[1;32m      3\u001b[0m pivot_table(df_ss)\n",
      "\u001b[0;31mModuleNotFoundError\u001b[0m: No module named 'pivottablje'"
     ]
    }
   ]
  },
  {
   "cell_type": "markdown",
   "source": "<a style='text-decoration:none;line-height:16px;display:flex;color:#5B5B62;padding:10px;justify-content:end;' href='https://deepnote.com?utm_source=created-in-deepnote-cell&projectId=866c1824-7b4c-45aa-8757-00af69acd7e8' target=\"_blank\">\n<img alt='Created in deepnote.com' style='display:inline;max-height:16px;margin:0px;margin-right:7.5px;' src='data:image/svg+xml;base64,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' > </img>\nCreated in <span style='font-weight:600;margin-left:4px;'>Deepnote</span></a>",
   "metadata": {
    "tags": [],
    "created_in_deepnote_cell": true,
    "deepnote_cell_type": "markdown"
   }
  }
 ],
 "nbformat": 4,
 "nbformat_minor": 0,
 "metadata": {
  "vscode": {
   "interpreter": {
    "hash": "a5001307ec9fea596004852ee6f4bf76d817df64e5b16f41c675d35df351dc92"
   }
  },
  "deepnote": {},
  "kernelspec": {
   "name": "python3",
   "language": "python",
   "display_name": "visualization_and_manipulation"
  },
  "language_info": {
   "name": "python",
   "version": "3.10.6",
   "mimetype": "text/x-python",
   "file_extension": ".py",
   "pygments_lexer": "ipython3",
   "codemirror_mode": {
    "name": "ipython",
    "version": 3
   },
   "nbconvert_exporter": "python"
  },
  "orig_nbformat": 4,
  "deepnote_app_layout": "article",
  "deepnote_notebook_id": "f6dd942e3de74e4fb19ddddfad1594cf",
  "deepnote_persisted_session": {
   "createdAt": "2022-11-20T04:31:20.618Z"
  },
  "deepnote_execution_queue": []
 }
}